{
  "nbformat": 4,
  "nbformat_minor": 0,
  "metadata": {
    "colab": {
      "provenance": [],
      "include_colab_link": true
    },
    "kernelspec": {
      "name": "python3",
      "display_name": "Python 3"
    },
    "language_info": {
      "name": "python"
    }
  },
  "cells": [
    {
      "cell_type": "markdown",
      "metadata": {
        "id": "view-in-github",
        "colab_type": "text"
      },
      "source": [
        "<a href=\"https://colab.research.google.com/github/Xornotor/PPGEEC-CompEvolutiva-Atividades/blob/main/Avalia%C3%A7%C3%A3o_1A_Algoritmos_Gen%C3%A9ticos.ipynb\" target=\"_parent\"><img src=\"https://colab.research.google.com/assets/colab-badge.svg\" alt=\"Open In Colab\"/></a>"
      ]
    },
    {
      "cell_type": "markdown",
      "source": [
        "\n",
        "\n",
        "\n",
        "# **Avaliação 1A - Computação Evolutiva e Meta-heurísticas**\n",
        "\n",
        "**Docente:** Prof. Dr. Edmar Egídio Purcino de Souza\n",
        "\n",
        "**Discentes:** André Paiva, Gabriel Lucas, Márcio Barros e Shaísta Câmara"
      ],
      "metadata": {
        "id": "P4dPKQL5LGgn"
      }
    },
    {
      "cell_type": "markdown",
      "source": [
        "## 1 - Inicialização e definição de funções do algoritmo genético"
      ],
      "metadata": {
        "id": "teT95EKaCyp7"
      }
    },
    {
      "cell_type": "markdown",
      "source": [
        "### 1.1 - Importação de Dependências e Parametrização"
      ],
      "metadata": {
        "id": "tsw1q1PluEh-"
      }
    },
    {
      "cell_type": "code",
      "execution_count": null,
      "metadata": {
        "id": "9anhrKFWd0uX"
      },
      "outputs": [],
      "source": [
        "import random\n",
        "import numpy as np\n",
        "import pandas as pd\n",
        "from matplotlib import pyplot as plt\n",
        "from plotly import graph_objects as go\n",
        "from plotly import express as px\n",
        "from itertools import combinations\n",
        "import matplotlib as mpl\n",
        "import seaborn as sns\n",
        "mpl.rcParams['figure.dpi'] = 150"
      ]
    },
    {
      "cell_type": "code",
      "source": [
        "general_conditions = {\n",
        "    # Parâmetros do algoritmo genético\n",
        "\n",
        "    #------------------------------------------------------------------\n",
        "    # Escolha a função de fitness a ser usada: \"dropwave\" ou \"levi\"\n",
        "    \"functionName\": \"dropwave\",\n",
        "    #\"functionName\": \"levi\",\n",
        "    #------------------------------------------------------------------\n",
        "\n",
        "    # Quantidade de indivíduos por geração\n",
        "    \"populationSize\": 100,\n",
        "\n",
        "    # Quantidade máxima de gerações\n",
        "    \"generationCount\": 100,\n",
        "\n",
        "    # Quantidade de indivíduos a ser preservados no elitismo\n",
        "    \"elitism\": 10,\n",
        "\n",
        "    # Seleção: 1 = Roleta, 2 = Torneio, 3 = Aleatório (50/50)\n",
        "    \"selectionMethod\": 3,\n",
        "\n",
        "    # Recombinação: 1 = Aritmética, 2 = Discreta, 3 = Aleatório (50/50)\n",
        "    \"recombMethod\": 3,\n",
        "\n",
        "    # Taxa de recombinação\n",
        "    \"recombRate\": 0.8,\n",
        "\n",
        "    # Taxa de mutação\n",
        "    \"mutRate\": 0.5,\n",
        "\n",
        "    # Aumento da taxa de mutação em caso de baixa diversidade\n",
        "    \"mutEnhance\": True,\n",
        "    \"mutEnhanceSetpoint\": 5,\n",
        "    \"mutEnhanceRate\": 0.8,\n",
        "\n",
        "    # Reinicialização da população em caso de baixa diversidade\n",
        "    \"popReset\": True,\n",
        "    \"popResetSetpoint\": 1,\n",
        "\n",
        "    # Parada antecipada em caso de convergência\n",
        "    \"earlyStop\": True,\n",
        "    \"earlyStopPatience\": 10,\n",
        "\n",
        "    # Quantidade de genes por cromossomo\n",
        "    \"chromosomeLength\": 2,\n",
        "\n",
        "    # Limites de valores para os genes\n",
        "    \"lowerBound\": -100,\n",
        "    \"upperBound\": 100\n",
        "}"
      ],
      "metadata": {
        "id": "5mbrnUvVOUHH"
      },
      "execution_count": null,
      "outputs": []
    },
    {
      "cell_type": "markdown",
      "source": [
        "### 1.2 - Definição de função objetivo (*fitness*)"
      ],
      "metadata": {
        "id": "HTjKyNh1LQbX"
      }
    },
    {
      "cell_type": "code",
      "source": [
        "def fitness(chromosome, conditions):\n",
        "    # Dropwave\n",
        "    x1 = chromosome[0]\n",
        "    x2 = chromosome[1]\n",
        "    if conditions[\"functionName\"] == \"dropwave\":\n",
        "        r = np.sqrt(x1**2 + x2**2)\n",
        "        numerator = -(1 + np.cos(12 * r))\n",
        "        denominator = 0.5 * (x1**2 + x2**2) + 2\n",
        "        return numerator / denominator\n",
        "    elif conditions[\"functionName\"] == \"levi\":\n",
        "        term1 = np.sin(3 * np.pi * x1)**2\n",
        "        term2 = (x1 - 1)**2 * (1 + np.sin(3 * np.pi * x2)**2)\n",
        "        term3 = (x2 - 1)**2 * (1 + np.sin(2 * np.pi * x2)**2)\n",
        "        return term1 + term2 + term3\n",
        "    else:\n",
        "        raise ValueError(\"Função de fitness desconhecida.\")"
      ],
      "metadata": {
        "id": "2p0AqipTiE8F"
      },
      "execution_count": null,
      "outputs": []
    },
    {
      "cell_type": "code",
      "source": [
        "# Plot interativo da função objetivo\n",
        "def fitness_plot(conditions):\n",
        "    if conditions[\"functionName\"] == \"dropwave\":\n",
        "        x = y = np.linspace(-5, 5, 500)\n",
        "    if conditions[\"functionName\"] == \"levi\":\n",
        "        x = y = np.linspace(-10, 10, 500)\n",
        "\n",
        "    chromosome = np.meshgrid(x, y)\n",
        "    Z = fitness(chromosome, conditions)\n",
        "\n",
        "    fig = go.Figure(data=[go.Surface(z=Z, x=x, y=y, colorscale='rainbow')])\n",
        "    fig.update_layout(title=f\"Função {conditions['functionName'].capitalize()}\",\n",
        "                    autosize=False, width=800, height=600,\n",
        "                    margin=dict(l=65, r=50, b=65, t=90))\n",
        "    fig.show()"
      ],
      "metadata": {
        "id": "D9DTB3hYuTHy"
      },
      "execution_count": null,
      "outputs": []
    },
    {
      "cell_type": "markdown",
      "source": [
        "### 1.3 - Funções auxiliares para o algoritmo genético"
      ],
      "metadata": {
        "id": "MrCPl8NSf4Xo"
      }
    },
    {
      "cell_type": "code",
      "source": [
        "# Instanciação de população inicial\n",
        "def generate_population(conditions):\n",
        "    population = [(np.random.uniform(conditions[\"lowerBound\"],\n",
        "                                     conditions[\"upperBound\"],\n",
        "                                     conditions[\"chromosomeLength\"],), 0)\n",
        "                                     for _ in range(conditions[\"populationSize\"])]\n",
        "    population = [(np.array(ind), fitness(ind, conditions)) for ind, _ in population]\n",
        "    return population\n",
        "\n",
        "# Medidas de diversidade\n",
        "def diversity_metrics(population):\n",
        "    genes = np.array([chromosome for chromosome, _ in population])\n",
        "    std_devs = np.std(genes, axis=0)\n",
        "    mean_distance_to_center = np.mean(np.linalg.norm(genes - np.mean(genes, axis=0), axis=1))\n",
        "    distances = [np.linalg.norm(a - b) for a, b in combinations(genes, 2)]\n",
        "    mean_pairwise_distance = np.mean(distances)\n",
        "    return std_devs, mean_distance_to_center, mean_pairwise_distance\n",
        "\n",
        "# Seleção\n",
        "def selection(population, conditions):\n",
        "    selected_parents = []\n",
        "    random_sel = np.random.uniform(0, 1) # Seleção aleatória: > 0.5 Torneio, c.c. Roleta\n",
        "\n",
        "    if(conditions[\"selectionMethod\"] == 1 or (conditions[\"selectionMethod\"] == 3 and random_sel <= 0.5)):\n",
        "        pop_fit = np.array([indiv[1] for indiv in population])\n",
        "        pop_argsort = np.argsort(pop_fit)\n",
        "        pop_fit = pop_fit[pop_argsort]\n",
        "        pop_fit = pop_fit[::-1]\n",
        "        pop_reorg = [population[i] for i in pop_argsort]\n",
        "        fit_rescale = np.logspace(0, 1, len(pop_fit))[::-1]\n",
        "        fit_rescale /= np.sum(fit_rescale)\n",
        "        fit_rescale = np.add.accumulate(fit_rescale)\n",
        "        fit_rescale[-1] = 1.0\n",
        "        fit_rescale = np.sqrt(fit_rescale)\n",
        "        pop_rescale = [(pop_reorg[i][0], fit_rescale[i]) for i in range(len(pop_reorg))]\n",
        "        for _ in range(len(pop_rescale)):\n",
        "            rand_parent = np.random.uniform(0, 1)\n",
        "            for i in range(len(pop_rescale)):\n",
        "                if rand_parent <= pop_rescale[i][1]:\n",
        "                    selected_parents.append(pop_rescale[i][0])\n",
        "                    break\n",
        "    elif(conditions[\"selectionMethod\"] == 2 or (conditions[\"selectionMethod\"] == 3 and random_sel > 0.5)):\n",
        "        tournament_size = 10\n",
        "        for _ in range(len(population)):\n",
        "            tournament = random.sample(population, tournament_size-1)\n",
        "            winner = min(tournament, key=lambda x: x[1]) # x[1] é o fitness na population/tournament\n",
        "            selected_parents.append(winner[0]) # winner[0] pega somente os valores dos genes (x1,x2)\n",
        "    else:\n",
        "        raise ValueError(\"selectionMethod inválido.\")\n",
        "\n",
        "    best_individual = min(population, key=lambda x: x[1])[0]\n",
        "    selected_parents.append(best_individual)\n",
        "    return selected_parents\n",
        "\n",
        "# Recombinação\n",
        "def crossover(parent1, parent2, conditions):\n",
        "    if np.random.uniform(0, 1) < conditions[\"recombRate\"]:\n",
        "        random_cross = np.random.uniform(0, 1) # Seleção aleatória: > 0.5 Discreta, c.c. Aritmética\n",
        "        if(conditions[\"recombMethod\"] == 1 or (conditions[\"recombMethod\"] == 3 and random_cross <= 0.5)):\n",
        "            interp = np.random.uniform(0, 1)\n",
        "            child1 = (interp * parent1) + ((1 - interp) * parent2)\n",
        "            child2 = (interp * parent2) + ((1 - interp) * parent1)\n",
        "            return child1, child2\n",
        "        elif(conditions[\"recombMethod\"] == 2 or (conditions[\"recombMethod\"] == 3 and random_cross > 0.5)):\n",
        "            crossover_point = random.randint(1, conditions[\"chromosomeLength\"] - 1)\n",
        "            child1 = np.append(parent1[:crossover_point], parent2[crossover_point:])\n",
        "            child2 = np.append(parent2[:crossover_point], parent1[crossover_point:])\n",
        "            return child1, child2\n",
        "        else:\n",
        "            raise ValueError(\"recombMethod inválido.\")\n",
        "    else:\n",
        "        return parent1, parent2\n",
        "\n",
        "# Mutação\n",
        "def mutate(individual, low_diversity, conditions):\n",
        "    mutated_individual = individual.copy()\n",
        "    mut_rate = conditions[\"mutEnhanceRate\"] if low_diversity else conditions[\"mutRate\"]\n",
        "    for i in range(conditions[\"chromosomeLength\"]):\n",
        "        if np.random.uniform(0, 1) < mut_rate:\n",
        "            mutated_individual[i] += np.random.uniform(-1, 1)\n",
        "    return np.clip(mutated_individual, conditions[\"lowerBound\"], conditions[\"upperBound\"])"
      ],
      "metadata": {
        "id": "FO0gp9HTjw5T"
      },
      "execution_count": null,
      "outputs": []
    },
    {
      "cell_type": "code",
      "source": [
        "# FUNÇÕES DE PLOT\n",
        "\n",
        "# Plot das curvas de convergência\n",
        "\n",
        "def convergence_curve_individual(population_df, conditions):\n",
        "    x = np.arange(0, len(population_df))\n",
        "    y = population_df[\"Fitness\"].to_numpy()\n",
        "\n",
        "    fig = plt.figure()\n",
        "    ax = plt.gca()\n",
        "\n",
        "    plt.plot(x, y, color='Plum', linestyle='--', linewidth=2,\n",
        "            marker='o', markeredgewidth=1, markerfacecolor='FireBrick',\n",
        "            markeredgecolor='black', markersize=2)\n",
        "\n",
        "    plt.xlabel('Geração')\n",
        "    plt.ylabel('Função objetivo')\n",
        "    plt.xticks(np.linspace(0, len(population_df), 8, dtype=int))\n",
        "\n",
        "    # Mostra no título qual função está sendo usada\n",
        "    plt.title(f'Curva de convergência - Função {conditions[\"functionName\"].capitalize()}')\n",
        "\n",
        "    if(conditions[\"functionName\"] == \"dropwave\"):\n",
        "        plt.axhline(y = -1, color =\"red\", linestyle =\"-\", zorder=1.5, linewidth=2)\n",
        "    elif(conditions[\"functionName\"] == \"levi\"):\n",
        "        plt.axhline(y = 0, color =\"red\", linestyle =\"-\", zorder=1.5, linewidth=2)\n",
        "\n",
        "    plt.grid(True)\n",
        "    plt.show()\n",
        "    plt.close(fig)\n",
        "\n",
        "    # Identificar última mudança significativa (> 1e-4) no fitness\n",
        "    threshold = 1e-4\n",
        "    last_significant_idx = 0\n",
        "\n",
        "    for i in range(1, len(y)):\n",
        "        if abs(y[i] - y[i - 1]) > threshold:\n",
        "            last_significant_idx = i\n",
        "\n",
        "    print(f\"Última mudança significativa (>1e-4) ocorreu na Geração de Convergência: {last_significant_idx}\")\n",
        "    print(f\"Best Fitness : {y[-1]:.6f}\")\n",
        "    print(f\"POPULATION_SIZE: {conditions['populationSize']}\")\n",
        "    print(f\"GENERATION_COUNT: {conditions['generationCount']}\")\n",
        "    print(f\"RECOMB_RATE: {conditions['recombRate']}\")\n",
        "    print(f\"MUTATION_RATE: {conditions['mutRate']}\")\n",
        "    print(f\"CHROMOSOME_LENGTH: {conditions['chromosomeLength']}\")\n",
        "    print(f\"LOWER_BOUND: {conditions['lowerBound']}\")\n",
        "    print(f\"UPPER_BOUND: {conditions['upperBound']}\")\n",
        "\n",
        "# Plot das medidas de diversidade\n",
        "def plot_diversity_metrics(std_devs_list, mean_distance_to_center_list, mean_pairwise_distance_list):\n",
        "    generations = range(len(std_devs_list))\n",
        "    std_x1 = [std[0] for std in std_devs_list]\n",
        "    std_x2 = [std[1] for std in std_devs_list]\n",
        "\n",
        "    plt.figure(figsize=(10, 3))\n",
        "\n",
        "    # Gráfico 1: Desvio padrão dos genes\n",
        "    plt.subplot(1, 3, 1)\n",
        "    plt.plot(generations, std_x1, label='Std x1')\n",
        "    plt.plot(generations, std_x2, label='Std x2')\n",
        "    plt.title('Desvio Padrão dos Genes')\n",
        "    plt.xlabel('Geração')\n",
        "    plt.ylabel('Desvio Padrão')\n",
        "    plt.legend()\n",
        "    plt.grid(True)\n",
        "\n",
        "    # Gráfico 2: Distância ao centro\n",
        "    plt.subplot(1, 3, 2)\n",
        "    plt.plot(generations, mean_distance_to_center_list, color='orange')\n",
        "    plt.title('Distância Média ao Centro')\n",
        "    plt.xlabel('Geração')\n",
        "    plt.ylabel('Distância')\n",
        "    plt.grid(True)\n",
        "\n",
        "    # Gráfico 3: Distância média entre pares\n",
        "    plt.subplot(1, 3, 3)\n",
        "    plt.plot(generations, mean_pairwise_distance_list, color='green')\n",
        "    plt.title('Distância Média entre Indivíduos')\n",
        "    plt.xlabel('Geração')\n",
        "    plt.ylabel('Distância')\n",
        "    plt.grid(True)\n",
        "\n",
        "    plt.tight_layout()\n",
        "    plt.show()"
      ],
      "metadata": {
        "id": "bBcRwW_Y3a6V"
      },
      "execution_count": null,
      "outputs": []
    },
    {
      "cell_type": "markdown",
      "source": [
        "### 1.4 - Algoritmo Genético"
      ],
      "metadata": {
        "id": "_LtsCTEzVBW4"
      }
    },
    {
      "cell_type": "code",
      "source": [
        "def genetic_algorithm(conditions, iter_print=False):\n",
        "    # Inicialização da primeira geração\n",
        "    population = generate_population(conditions)\n",
        "\n",
        "    # Lista de melhores valores de cada geração\n",
        "    best_dicts_list = []\n",
        "\n",
        "    # Histórico da sociedade\n",
        "    population_df = pd.DataFrame()\n",
        "\n",
        "    # Variáveis de controle para early stopping\n",
        "    last_iter_with_enhancement = 0\n",
        "    fitness_for_last_iter_with_enhance = np.inf\n",
        "\n",
        "    # Medidas de diversidade\n",
        "    diversity_dicts_list = []\n",
        "    std_devs_list = []\n",
        "    mean_distance_to_center_list = []\n",
        "    mean_pairwise_distance_list = []\n",
        "    std_devs = dist_to_center = pairwise_dist = np.inf\n",
        "\n",
        "    # Taxa de mutação (pode aumentar em caso de baixa diversidade)\n",
        "    low_diversity = False\n",
        "\n",
        "    for iter in range(conditions[\"generationCount\"]):\n",
        "        # Avalia a população com a função de fitness escolhida\n",
        "        population = [(chromosome, fitness(chromosome, conditions)) for chromosome, _ in population]\n",
        "\n",
        "        gen_dicts = []\n",
        "        for i, item in enumerate(population):\n",
        "            pop_dict = {\"Generation\": iter, \"Fitness\": item[1]}\n",
        "            for j, gene in enumerate(item[0]):\n",
        "                pop_dict[f\"x{j+1}\"] = gene\n",
        "            gen_dicts.append(pop_dict)\n",
        "        population_df = pd.concat([population_df, pd.DataFrame(gen_dicts)], ignore_index=True)\n",
        "\n",
        "        # Seleciona os pais\n",
        "        parents = selection(population, conditions) # retorna um vetor de size population+1, isso é importante pro loop seguinte funcionar, como foi feito\n",
        "\n",
        "        # Realiza o crossover e a mutação para gerar descendentes\n",
        "        offspring = []\n",
        "        # Vai de 2 em 2 dentro da população\n",
        "        for i in range(0, conditions[\"populationSize\"], 2):\n",
        "            parent1 = np.array(parents[i])\n",
        "            parent2 = np.array(parents[i + 1])\n",
        "            child1, child2 = crossover(parent1, parent2, conditions)\n",
        "            child1 = mutate(child1, low_diversity, conditions)\n",
        "            child2 = mutate(child2, low_diversity, conditions)\n",
        "            offspring.extend([child1, child2])\n",
        "\n",
        "        # Recria a população a partir dos descendentes (sem avaliar fitness)\n",
        "        population_x = [(chromosome, 0) for chromosome in offspring]\n",
        "\n",
        "        # Elitismo: mantém os melhores indivíduos da geração anterior\n",
        "        elites = sorted(population, key=lambda x: x[1])[:conditions[\"elitism\"]]\n",
        "\n",
        "        best_individual = min(population, key=lambda x: x[1])[0] # O [0] no final é para pegar apenas o cromossomo, depois de avaliar o menor fitness da população\n",
        "        population = elites + population_x\n",
        "        population = population[:conditions[\"populationSize\"]]\n",
        "\n",
        "        # Reavalia o melhor indivíduo para registrar\n",
        "        fitness_value = fitness(best_individual, conditions)\n",
        "        best_dict = {\"Generation\": iter, \"Fitness\": fitness(best_individual, conditions)}\n",
        "        for i, gene in enumerate(best_individual):\n",
        "            best_dict[f\"x{i+1}\"] = gene\n",
        "        best_dicts_list.append(best_dict)\n",
        "\n",
        "        # Calcula diversidade da população atual\n",
        "        std_devs, dist_to_center, pairwise_dist = diversity_metrics(population)\n",
        "        diversity_dicts_list.append({\"Generation\": iter,\n",
        "                                     \"std_dev\": std_devs,\n",
        "                                     \"dist_to_center\": dist_to_center,\n",
        "                                     \"pairwise_dist\": pairwise_dist})\n",
        "\n",
        "        # Aumento da taxa de mutação em caso de baixa diversidade\n",
        "        low_diversity = conditions[\"mutEnhance\"] and pairwise_dist < conditions[\"mutEnhanceSetpoint\"]\n",
        "\n",
        "        # Reinicialização da população em caso de baixa diversidade\n",
        "        if(conditions[\"popReset\"] and pairwise_dist < conditions[\"popResetSetpoint\"]):\n",
        "            population = elites + generate_population(conditions)\n",
        "            population = population[:conditions[\"populationSize\"]]\n",
        "            std_devs, dist_to_center, pairwise_dist = diversity_metrics(population)\n",
        "\n",
        "        # Armazena os valores\n",
        "        std_devs_list.append(std_devs)\n",
        "        mean_distance_to_center_list.append(dist_to_center)\n",
        "        mean_pairwise_distance_list.append(pairwise_dist)\n",
        "\n",
        "        if(iter_print):\n",
        "            print(f\"Generation: {iter} | Best Fitness: {fitness_value:.6f} | Best Solution: {best_individual}\")\n",
        "\n",
        "        # Early stopping\n",
        "        if(fitness_value < fitness_for_last_iter_with_enhance):\n",
        "            last_iter_with_enhancement = iter\n",
        "            fitness_for_last_iter_with_enhance = fitness_value\n",
        "        elif(conditions[\"earlyStop\"] and iter - last_iter_with_enhancement >= conditions[\"earlyStopPatience\"]):\n",
        "            break\n",
        "\n",
        "    best_result = best_dicts_list[-1]\n",
        "    best_df = pd.DataFrame(best_dicts_list).sort_values(\"Generation\")\n",
        "    diversity_df = pd.DataFrame(diversity_dicts_list).sort_values(\"Generation\")\n",
        "\n",
        "    return best_result, best_df, diversity_df, population_df"
      ],
      "metadata": {
        "id": "Hz5mg6aVeBdm"
      },
      "execution_count": null,
      "outputs": []
    },
    {
      "cell_type": "markdown",
      "source": [
        "## 2 - Testes do Algoritmo Genético: Execução única"
      ],
      "metadata": {
        "id": "3xA9LWGzWhEh"
      }
    },
    {
      "cell_type": "code",
      "source": [
        "fitness_plot(general_conditions)"
      ],
      "metadata": {
        "id": "8OTf-5m2XL5D"
      },
      "execution_count": null,
      "outputs": []
    },
    {
      "cell_type": "code",
      "source": [
        "best_result, best_df, diversity_df, population_df = genetic_algorithm(general_conditions, iter_print=True)"
      ],
      "metadata": {
        "id": "i0zOqGcFUvgT"
      },
      "execution_count": null,
      "outputs": []
    },
    {
      "cell_type": "code",
      "source": [
        "px.scatter(population_df, \"x1\", \"x2\", \"Fitness\", animation_frame=\"Generation\",\n",
        "           width=800, height=600, color_continuous_scale='bluered',\n",
        "           title=f\"Função {general_conditions['functionName'].capitalize()} - Evolução das Gerações\")"
      ],
      "metadata": {
        "id": "URejE2Vpr1bH"
      },
      "execution_count": null,
      "outputs": []
    },
    {
      "cell_type": "code",
      "source": [
        "plot_diversity_metrics(diversity_df[\"std_dev\"].to_numpy(),\n",
        "                       diversity_df[\"dist_to_center\"].to_numpy(),\n",
        "                       diversity_df[\"pairwise_dist\"].to_numpy())"
      ],
      "metadata": {
        "id": "6b1S-Hp9FQx0"
      },
      "execution_count": null,
      "outputs": []
    },
    {
      "cell_type": "code",
      "source": [
        "convergence_curve_individual(best_df, general_conditions)"
      ],
      "metadata": {
        "id": "6hSIbIvQeEEQ"
      },
      "execution_count": null,
      "outputs": []
    },
    {
      "cell_type": "markdown",
      "source": [
        "## 3 - Definição de funções para os experimentos estatísticos"
      ],
      "metadata": {
        "id": "6vIZbrhwgYSu"
      }
    },
    {
      "cell_type": "code",
      "source": [
        "# Conversão para camelCase para nomes de excursion vars\n",
        "def to_camel_case(text):\n",
        "    s = text.replace(\"-\", \" \").replace(\"_\", \" \")\n",
        "    s = s.split()\n",
        "    if len(text) == 0:\n",
        "        return text\n",
        "    return s[0].lower() + ''.join(i.capitalize() for i in s[1:])\n",
        "\n",
        "# Teste com diversas inicializações em diferentes condições\n",
        "def statistical_test(conditions, excursion_var, excursion_array, initializations=20):\n",
        "    best_result_dicts = []\n",
        "    final_pop_df = pd.DataFrame()\n",
        "    internal_conditions = conditions.copy()\n",
        "    for i in excursion_array:\n",
        "        internal_conditions[to_camel_case(excursion_var)] = i\n",
        "        for j in range(initializations):\n",
        "            print(f\"\\r{excursion_var} {i}, Initialization {j}...    \", end='')\n",
        "            result, pop_df, _, _ = genetic_algorithm(internal_conditions)\n",
        "            result[excursion_var] = i\n",
        "            result[\"Initialization\"] = j\n",
        "            pop_df[excursion_var] = i\n",
        "            pop_df[\"Initialization\"] = j\n",
        "            best_result_dicts.append(result)\n",
        "            final_pop_df = pd.concat([final_pop_df, pop_df], ignore_index=True)\n",
        "    final_result_df = pd.DataFrame(best_result_dicts)\n",
        "    print(\"\\rDone.\")\n",
        "    return final_result_df, final_pop_df\n",
        "\n",
        "# Violinplot de fitness por variável de excursionamento\n",
        "def violin_fitness(conditions, excursion_var, result_df):\n",
        "    fig, ax = plt.subplots(1, 1)\n",
        "    sns.violinplot(data=result_df, x=excursion_var, y=\"Fitness\",\n",
        "                split=True, ax=ax, inner=\"quart\", density_norm=\"count\")\n",
        "    ax.set_title(f\"Violinplot Normalizado - Função {conditions['functionName'].capitalize()}\")\n",
        "    fig.show()\n",
        "\n",
        "# Plot de curva de convergência para a inicialização com melhor fitness de cada condição\n",
        "def convergence_curve_statistical(conditions, excursion_var, result_df, pop_df, figsize=(8, 8)):\n",
        "    min_fitness_indices = result_df.groupby(excursion_var)['Fitness'].idxmin()\n",
        "    best_init_per_var = result_df.loc[min_fitness_indices][[excursion_var, \"Initialization\"]]\n",
        "\n",
        "    plot_amount = len(best_init_per_var)\n",
        "\n",
        "    if(len == 3):\n",
        "        h = 3\n",
        "        v = 1\n",
        "    else:\n",
        "        h = int(np.ceil(np.sqrt(plot_amount)))\n",
        "        v = int(np.ceil(plot_amount / h))\n",
        "\n",
        "    fig, ax = plt.subplots(v, h, figsize=figsize)\n",
        "    fig.suptitle(f'Curva de convergência - Função {conditions[\"functionName\"].capitalize()} (Melhor inicialização por {excursion_var})')\n",
        "    for i, var_value in enumerate(best_init_per_var[excursion_var]):\n",
        "        best_init = best_init_per_var[best_init_per_var[excursion_var] == var_value][\"Initialization\"].to_numpy()[0]\n",
        "        pop_subdf = pop_df[(pop_df[excursion_var] == var_value) & (pop_df[\"Initialization\"] == best_init)]\n",
        "        x = np.arange(0, len(pop_subdf))\n",
        "        y = pop_subdf[\"Fitness\"].to_numpy()\n",
        "        ax[i//h, i%h].plot(x, y, color='Plum', linestyle='--', linewidth=2,\n",
        "            marker='o', markeredgewidth=1, markerfacecolor='FireBrick',\n",
        "            markeredgecolor='black', markersize=2)\n",
        "        ax[i//h, i%h].set_xlabel('Geração')\n",
        "        ax[i//h, i%h].set_ylabel('Função objetivo')\n",
        "        ax[i//h, i%h].set_xticks(np.linspace(0, len(pop_subdf), 8, dtype=int))\n",
        "        ax[i//h, i%h].set_title(f'{excursion_var}: {var_value}')\n",
        "        if(conditions[\"functionName\"] == \"dropwave\"):\n",
        "            ax[i//h, i%h].axhline(y = -1, color =\"red\", linestyle =\"-\", zorder=1.5, linewidth=2)\n",
        "        elif(conditions[\"functionName\"] == \"levi\"):\n",
        "            ax[i//h, i%h].axhline(y = 0, color =\"red\", linestyle =\"-\", zorder=1.5, linewidth=2)\n",
        "        ax[i//h, i%h].grid(True)\n",
        "    fig.set_tight_layout(\"tight\")\n",
        "    plt.show()\n",
        "    plt.close(fig)"
      ],
      "metadata": {
        "id": "SbSSI6YSgi76"
      },
      "execution_count": null,
      "outputs": []
    },
    {
      "cell_type": "markdown",
      "source": [
        "## 4 - Experimentos estatísticos"
      ],
      "metadata": {
        "id": "wqhcFEzm-mFG"
      }
    },
    {
      "cell_type": "markdown",
      "source": [
        "### 4.1 - Experimento 1: Efeitos do tamanho da população (Dropwave)"
      ],
      "metadata": {
        "id": "w1nX4j86-rMW"
      }
    },
    {
      "cell_type": "code",
      "source": [
        "exp1_conditions = {\n",
        "    \"functionName\": \"dropwave\",\n",
        "    \"populationSize\": 10,\n",
        "    \"generationCount\": 50,\n",
        "    \"elitism\": 2,\n",
        "    \"selectionMethod\": 2, # Torneio\n",
        "    \"recombMethod\": 1, # Aritmética\n",
        "    \"recombRate\": 0.8,\n",
        "    \"mutRate\": 0.5,\n",
        "    \"mutEnhance\": False,\n",
        "    \"mutEnhanceSetpoint\": 5,\n",
        "    \"mutEnhanceRate\": 0.8,\n",
        "    \"popReset\": False,\n",
        "    \"popResetSetpoint\": 1,\n",
        "    \"earlyStop\": False,\n",
        "    \"earlyStopPatience\": 10,\n",
        "    \"chromosomeLength\": 2,\n",
        "    \"lowerBound\": -100,\n",
        "    \"upperBound\": 100\n",
        "}"
      ],
      "metadata": {
        "id": "5KCro-y0-zLW"
      },
      "execution_count": null,
      "outputs": []
    },
    {
      "cell_type": "code",
      "source": [
        "exp1_result_df, exp1_pop_df = statistical_test(exp1_conditions, \"Population Size\", np.arange(20, 121, 20))"
      ],
      "metadata": {
        "collapsed": true,
        "id": "XWU88IEJ_F_y"
      },
      "execution_count": null,
      "outputs": []
    },
    {
      "cell_type": "code",
      "source": [
        "exp1_result_df.groupby([\"Population Size\"])[[\"x1\", \"x2\", \"Fitness\"]].agg([\"mean\", \"std\"])"
      ],
      "metadata": {
        "id": "ukTnH6rBL8tL"
      },
      "execution_count": null,
      "outputs": []
    },
    {
      "cell_type": "code",
      "source": [
        "violin_fitness(exp1_conditions, \"Population Size\", exp1_result_df)"
      ],
      "metadata": {
        "id": "8b2SEms7_v05"
      },
      "execution_count": null,
      "outputs": []
    },
    {
      "cell_type": "code",
      "source": [
        "convergence_curve_statistical(exp1_conditions, \"Population Size\", exp1_result_df, exp1_pop_df, figsize=(10, 6))"
      ],
      "metadata": {
        "id": "8Booc1CZbeVA"
      },
      "execution_count": null,
      "outputs": []
    },
    {
      "cell_type": "markdown",
      "source": [
        "### 4.2 - Experimento 2: Efeitos do tamanho da população (Levi)"
      ],
      "metadata": {
        "id": "aZFC2qd6NRtk"
      }
    },
    {
      "cell_type": "code",
      "source": [
        "exp2_conditions = {\n",
        "    \"functionName\": \"levi\",\n",
        "    \"populationSize\": 20,\n",
        "    \"generationCount\": 50,\n",
        "    \"elitism\": 2,\n",
        "    \"selectionMethod\": 2, # Torneio\n",
        "    \"recombMethod\": 1, # Aritmética\n",
        "    \"recombRate\": 0.8,\n",
        "    \"mutRate\": 0.5,\n",
        "    \"mutEnhance\": False,\n",
        "    \"mutEnhanceSetpoint\": 5,\n",
        "    \"mutEnhanceRate\": 0.8,\n",
        "    \"popReset\": False,\n",
        "    \"popResetSetpoint\": 1,\n",
        "    \"earlyStop\": False,\n",
        "    \"earlyStopPatience\": 10,\n",
        "    \"chromosomeLength\": 2,\n",
        "    \"lowerBound\": -100,\n",
        "    \"upperBound\": 100\n",
        "}"
      ],
      "metadata": {
        "id": "WUyvFmf0NtMh"
      },
      "execution_count": null,
      "outputs": []
    },
    {
      "cell_type": "code",
      "source": [
        "exp2_result_df, exp2_pop_df = statistical_test(exp2_conditions, \"Population Size\", np.arange(20, 121, 20))"
      ],
      "metadata": {
        "id": "txkT5YL0Nw4a"
      },
      "execution_count": null,
      "outputs": []
    },
    {
      "cell_type": "code",
      "source": [
        "exp2_result_df.groupby([\"Population Size\"])[[\"x1\", \"x2\", \"Fitness\"]].agg([\"mean\", \"std\"])"
      ],
      "metadata": {
        "id": "w2UsZpYwOX7_"
      },
      "execution_count": null,
      "outputs": []
    },
    {
      "cell_type": "code",
      "source": [
        "convergence_curve_statistical(exp2_conditions, \"Population Size\", exp2_result_df, exp2_pop_df, figsize=(10, 6))"
      ],
      "metadata": {
        "id": "im-1sAFnfnP-"
      },
      "execution_count": null,
      "outputs": []
    },
    {
      "cell_type": "code",
      "source": [
        "violin_fitness(exp2_conditions, \"Population Size\", exp2_result_df)"
      ],
      "metadata": {
        "id": "j2D7BtTQB8nH"
      },
      "execution_count": null,
      "outputs": []
    }
  ]
}