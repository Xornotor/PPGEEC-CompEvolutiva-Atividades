{
  "nbformat": 4,
  "nbformat_minor": 0,
  "metadata": {
    "colab": {
      "provenance": [],
      "include_colab_link": true
    },
    "kernelspec": {
      "name": "python3",
      "display_name": "Python 3"
    },
    "language_info": {
      "name": "python"
    }
  },
  "cells": [
    {
      "cell_type": "markdown",
      "metadata": {
        "id": "view-in-github",
        "colab_type": "text"
      },
      "source": [
        "<a href=\"https://colab.research.google.com/github/Xornotor/PPGEEC-CompEvolutiva-Atividades/blob/main/Avalia%C3%A7%C3%A3o_1A_Algoritmos_Gen%C3%A9ticos.ipynb\" target=\"_parent\"><img src=\"https://colab.research.google.com/assets/colab-badge.svg\" alt=\"Open In Colab\"/></a>"
      ]
    },
    {
      "cell_type": "markdown",
      "source": [
        "\n",
        "\n",
        "\n",
        "# **Avaliação 1A - Computação Evolutiva e Meta-heurísticas**\n",
        "\n",
        "**Docente:** Prof. Dr. Edmar Egídio Purcino de Souza\n",
        "\n",
        "**Discentes:** André Paiva, Gabriel Lucas, Márcio Barros e Shaísta Câmara"
      ],
      "metadata": {
        "id": "P4dPKQL5LGgn"
      }
    },
    {
      "cell_type": "markdown",
      "source": [
        "## 1 - Importação de Dependências e Parametrização"
      ],
      "metadata": {
        "id": "tsw1q1PluEh-"
      }
    },
    {
      "cell_type": "code",
      "execution_count": null,
      "metadata": {
        "id": "9anhrKFWd0uX"
      },
      "outputs": [],
      "source": [
        "import random\n",
        "import numpy as np\n",
        "from matplotlib import pyplot as plt\n",
        "from plotly import graph_objects as go\n",
        "from itertools import combinations\n",
        "import matplotlib as mpl\n",
        "mpl.rcParams['figure.dpi'] = 150"
      ]
    },
    {
      "cell_type": "code",
      "source": [
        "# Parâmetros do algoritmo genético\n",
        "\n",
        "#------------------------------------------------------------------\n",
        "# Escolha a função de fitness a ser usada: \"dropwave\" ou \"levi\"\n",
        "FUNCTION_NAME = \"dropwave\"\n",
        "#FUNCTION_NAME = \"levi\"\n",
        "#------------------------------------------------------------------\n",
        "\n",
        "# Quantidade de indivíduos por geração\n",
        "POPULATION_SIZE = 100\n",
        "\n",
        "# Quantidade máxima de gerações\n",
        "GENERATION_COUNT = 100\n",
        "\n",
        "# Quantidade de indivíduos a ser preservados no elitismo\n",
        "ELITISM = 10\n",
        "\n",
        "# Seleção: 1 = Roleta, 2 = Torneio, 3 = Aleatório (50/50)\n",
        "SELECTION_TYPE = 2\n",
        "\n",
        "# Recombinação: 1 = Aritmética, 2 = Discreta, 3 = Aleatório (50/50)\n",
        "CROSSOVER_TYPE = 3\n",
        "\n",
        "# Taxa de recombinação\n",
        "CROSSOVER_RATE = 0.8\n",
        "\n",
        "# Taxa de mutação\n",
        "MUTATION_RATE = 0.5\n",
        "\n",
        "# Aumento da taxa de mutação em caso de baixa diversidade\n",
        "MUTATION_ENHANCEMENT = True\n",
        "MUTATION_ENHANCE_SETPOINT = 5\n",
        "MUTATION_RATE_HIGH = 0.8\n",
        "\n",
        "# Reinicialização da população em caso de baixa diversidade\n",
        "POPULATION_RESET = True\n",
        "POPULATION_RESET_SETPOINT = 1\n",
        "\n",
        "# Parada antecipada em caso de convergência\n",
        "EARLY_STOPPING = True\n",
        "EARLY_STOPPING_PATIENCE = 10\n",
        "\n",
        "# Quantidade de genes por cromossomo\n",
        "CHROMOSOME_LENGTH = 2\n",
        "\n",
        "# Limites de valores para os genes\n",
        "LOWER_BOUND = -100\n",
        "UPPER_BOUND = 100"
      ],
      "metadata": {
        "id": "5mbrnUvVOUHH"
      },
      "execution_count": null,
      "outputs": []
    },
    {
      "cell_type": "markdown",
      "source": [
        "## 2 - Definição de função objetivo (*fitness*)"
      ],
      "metadata": {
        "id": "HTjKyNh1LQbX"
      }
    },
    {
      "cell_type": "code",
      "source": [
        "if FUNCTION_NAME == \"dropwave\":\n",
        "    def fitness(chromosome):\n",
        "        # Dropwave\n",
        "        x1 = chromosome[0]\n",
        "        x2 = chromosome[1]\n",
        "        r = np.sqrt(x1**2 + x2**2)\n",
        "        numerator = -(1 + np.cos(12 * r))\n",
        "        denominator = 0.5 * (x1**2 + x2**2) + 2\n",
        "        return numerator / denominator\n",
        "elif FUNCTION_NAME == \"levi\":\n",
        "    def fitness(chromosome):\n",
        "        # Levi n. 13\n",
        "        x1 = chromosome[0]\n",
        "        x2 = chromosome[1]\n",
        "        term1 = np.sin(3 * np.pi * x1)**2\n",
        "        term2 = (x1 - 1)**2 * (1 + np.sin(3 * np.pi * x2)**2)\n",
        "        term3 = (x2 - 1)**2 * (1 + np.sin(2 * np.pi * x2)**2)\n",
        "        return term1 + term2 + term3\n",
        "else:\n",
        "    raise ValueError(\"Função de fitness desconhecida.\")"
      ],
      "metadata": {
        "id": "2p0AqipTiE8F"
      },
      "execution_count": null,
      "outputs": []
    },
    {
      "cell_type": "code",
      "source": [
        "# Plot interativo da função objetivo\n",
        "def fitness_plot():\n",
        "    if FUNCTION_NAME == \"dropwave\":\n",
        "        x = y = np.linspace(-5, 5, 500)\n",
        "    elif FUNCTION_NAME == \"levi\":\n",
        "        x = y = np.linspace(-10, 10, 500)\n",
        "\n",
        "    chromosome = np.meshgrid(x, y)\n",
        "    Z = fitness(chromosome)\n",
        "\n",
        "    fig = go.Figure(data=[go.Surface(z=Z, x=x, y=y, colorscale='rainbow')])\n",
        "    fig.update_layout(title=f\"Função {FUNCTION_NAME.capitalize()}\",\n",
        "                    autosize=False, width=800, height=600,\n",
        "                    margin=dict(l=65, r=50, b=65, t=90))\n",
        "    fig.show()"
      ],
      "metadata": {
        "id": "D9DTB3hYuTHy"
      },
      "execution_count": null,
      "outputs": []
    },
    {
      "cell_type": "markdown",
      "source": [
        "## 3 - Funções auxiliares para o algoritmo genético"
      ],
      "metadata": {
        "id": "MrCPl8NSf4Xo"
      }
    },
    {
      "cell_type": "code",
      "source": [
        "# Instanciação de população inicial\n",
        "def generate_population():\n",
        "    population = [(np.random.uniform(LOWER_BOUND, UPPER_BOUND, CHROMOSOME_LENGTH), 0) for _ in range(POPULATION_SIZE)]\n",
        "    population = [(np.array(ind), fitness(ind)) for ind, _ in population]\n",
        "    return population\n",
        "\n",
        "# Medidas de diversidade\n",
        "def diversity_metrics(population):\n",
        "    genes = np.array([chromosome for chromosome, _ in population])\n",
        "    std_devs = np.std(genes, axis=0)\n",
        "    mean_distance_to_center = np.mean(np.linalg.norm(genes - np.mean(genes, axis=0), axis=1))\n",
        "    distances = [np.linalg.norm(a - b) for a, b in combinations(genes, 2)]\n",
        "    mean_pairwise_distance = np.mean(distances)\n",
        "    return std_devs, mean_distance_to_center, mean_pairwise_distance\n",
        "\n",
        "# Seleção\n",
        "def selection(population):\n",
        "    selected_parents = []\n",
        "    random_sel = np.random.uniform(0, 1) # Seleção aleatória: > 0.5 Torneio, c.c. Roleta\n",
        "\n",
        "    if(SELECTION_TYPE == 1 or (SELECTION_TYPE == 3 and random_sel <= 0.5)):\n",
        "        pass # [IMPLEMENTAR ROLETA]\n",
        "    elif(SELECTION_TYPE == 2 or (SELECTION_TYPE == 3 and random_sel > 0.5)):\n",
        "        tournament_size = 10\n",
        "        for _ in range(len(population)):\n",
        "            tournament = random.sample(population, tournament_size-1)\n",
        "            winner = min(tournament, key=lambda x: x[1]) # x[1] é o fitness na populatin/tourment\n",
        "            selected_parents.append(winner[0]) # winner[0] pega somente os valores dos genes (x1,x2)\n",
        "    else:\n",
        "        raise ValueError(\"SELECTION_TYPE inválido.\")\n",
        "\n",
        "    best_individual = min(population, key=lambda x: x[1])[0]\n",
        "    selected_parents.append(best_individual)\n",
        "    return selected_parents\n",
        "\n",
        "# Recombinação\n",
        "def crossover(parent1, parent2):\n",
        "    if np.random.uniform(0, 1) < CROSSOVER_RATE:\n",
        "        random_cross = np.random.uniform(0, 1) # Seleção aleatória: > 0.5 Discreta, c.c. Aritmética\n",
        "        if(CROSSOVER_TYPE == 1 or (CROSSOVER_TYPE == 3 and random_cross <= 0.5)):\n",
        "            interp = np.random.uniform(0, 1)\n",
        "            child1 = (interp * parent1) + ((1 - interp) * parent2)\n",
        "            child2 = (interp * parent2) + ((1 - interp) * parent1)\n",
        "            return child1, child2\n",
        "        elif(CROSSOVER_TYPE == 2 or (CROSSOVER_TYPE == 3 and random_cross > 0.5)):\n",
        "            crossover_point = random.randint(1, CHROMOSOME_LENGTH - 1)\n",
        "            child1 = np.append(parent1[:crossover_point], parent2[crossover_point:])\n",
        "            child2 = np.append(parent2[:crossover_point], parent1[crossover_point:])\n",
        "            return child1, child2\n",
        "        else:\n",
        "            raise ValueError(\"CROSSOVER_TYPE inválido.\")\n",
        "    else:\n",
        "        return parent1, parent2\n",
        "\n",
        "# Mutação\n",
        "def mutate(individual, mut_rate=MUTATION_RATE):\n",
        "    mutated_individual = individual.copy()\n",
        "    for i in range(CHROMOSOME_LENGTH):\n",
        "        if random.random() < mut_rate:\n",
        "            mutated_individual[i] += random.uniform(-1, 1)\n",
        "    return np.clip(mutated_individual, LOWER_BOUND, UPPER_BOUND)\n",
        "\n",
        "# Plot das medidas de diversidade\n",
        "def plot_diversity_metrics(std_devs_list, mean_distance_to_center_list, mean_pairwise_distance_list):\n",
        "    generations = range(len(std_devs_list))\n",
        "    std_x1 = [std[0] for std in std_devs_list]\n",
        "    std_x2 = [std[1] for std in std_devs_list]\n",
        "\n",
        "    plt.figure(figsize=(10, 3))\n",
        "\n",
        "    # Gráfico 1: Desvio padrão dos genes\n",
        "    plt.subplot(1, 3, 1)\n",
        "    plt.plot(generations, std_x1, label='Std x1')\n",
        "    plt.plot(generations, std_x2, label='Std x2')\n",
        "    plt.title('Desvio Padrão dos Genes')\n",
        "    plt.xlabel('Geração')\n",
        "    plt.ylabel('Desvio Padrão')\n",
        "    plt.legend()\n",
        "    plt.grid(True)\n",
        "\n",
        "    # Gráfico 2: Distância ao centro\n",
        "    plt.subplot(1, 3, 2)\n",
        "    plt.plot(generations, mean_distance_to_center_list, color='orange')\n",
        "    plt.title('Distância Média ao Centro')\n",
        "    plt.xlabel('Geração')\n",
        "    plt.ylabel('Distância')\n",
        "    plt.grid(True)\n",
        "\n",
        "    # Gráfico 3: Distância média entre pares\n",
        "    plt.subplot(1, 3, 3)\n",
        "    plt.plot(generations, mean_pairwise_distance_list, color='green')\n",
        "    plt.title('Distância Média entre Indivíduos')\n",
        "    plt.xlabel('Geração')\n",
        "    plt.ylabel('Distância')\n",
        "    plt.grid(True)\n",
        "\n",
        "    plt.tight_layout()\n",
        "    plt.show()"
      ],
      "metadata": {
        "id": "FO0gp9HTjw5T"
      },
      "execution_count": null,
      "outputs": []
    },
    {
      "cell_type": "markdown",
      "source": [
        "## 4 - Algoritmo Genético"
      ],
      "metadata": {
        "id": "_LtsCTEzVBW4"
      }
    },
    {
      "cell_type": "code",
      "source": [
        "def genetic_algorithm(iter_print=False):\n",
        "    # Inicialização da primeira geração\n",
        "    population = generate_population()\n",
        "\n",
        "    # Lista de melhores valores de cada geração\n",
        "    bestValue = []\n",
        "\n",
        "    # Variáveis de controle para early stopping\n",
        "    last_iter_with_enhancement = 0\n",
        "    fitness_for_last_iter_with_enhance = np.inf\n",
        "\n",
        "    # Listas de medidas de diversidade\n",
        "    std_devs_list = []\n",
        "    mean_distance_to_center_list = []\n",
        "    mean_pairwise_distance_list = []\n",
        "\n",
        "    # Taxa de mutação (pode aumentar em caso de baixa diversidade)\n",
        "    mut_rate = MUTATION_RATE\n",
        "\n",
        "    for iter in range(GENERATION_COUNT):\n",
        "        # Avalia a população com a função de fitness escolhida\n",
        "        population = [(chromosome, fitness(chromosome)) for chromosome, _ in population]\n",
        "\n",
        "        # Seleciona os pais\n",
        "        parents = selection(population) # retorna um vetor de size population+1, isso é importante pro loop seguinte funcionar, como foi feito\n",
        "\n",
        "        # Realiza o crossover e a mutação para gerar descendentes\n",
        "        offspring = []\n",
        "        # Vai de 2 em 2 dentro da população\n",
        "        for i in range(0, POPULATION_SIZE, 2):\n",
        "            parent1 = np.array(parents[i])\n",
        "            parent2 = np.array(parents[i + 1])\n",
        "            child1, child2 = crossover(parent1, parent2)\n",
        "            child1 = mutate(child1, mut_rate)\n",
        "            child2 = mutate(child2, mut_rate)\n",
        "            offspring.extend([child1, child2])\n",
        "\n",
        "        # Recria a população a partir dos descendentes (sem avaliar fitness)\n",
        "        population_x = [(chromosome, 0) for chromosome in offspring]\n",
        "\n",
        "        # Elitismo: mantém os melhores indivíduos da geração anterior\n",
        "        elites = sorted(population, key=lambda x: x[1])[:ELITISM]\n",
        "\n",
        "        best_individual = min(population, key=lambda x: x[1])[0] # O [0] no final é para pegar apenas o cromossomo, depois de avaliar o menor fitness da população\n",
        "        population = elites + population_x\n",
        "\n",
        "        # Reavalia o melhor indivíduo para registrar\n",
        "        fitness_value = fitness(best_individual)\n",
        "        bestValue.append(fitness_value)\n",
        "\n",
        "        # Calcula diversidade da população atual\n",
        "        std_devs, dist_to_center, pairwise_dist = diversity_metrics(population)\n",
        "\n",
        "        # Aumento da taxa de mutação em caso de baixa diversidade\n",
        "        if(MUTATION_ENHANCEMENT and pairwise_dist < MUTATION_ENHANCE_SETPOINT):\n",
        "            mut_rate = MUTATION_RATE_HIGH\n",
        "        else:\n",
        "            mut_rate = MUTATION_RATE\n",
        "\n",
        "        # Reinicialização da população em caso de baixa diversidade\n",
        "        if(POPULATION_RESET and pairwise_dist < POPULATION_RESET_SETPOINT):\n",
        "            population = elites + generate_population()\n",
        "            std_devs, dist_to_center, pairwise_dist = diversity_metrics(population)\n",
        "\n",
        "        # Armazena os valores\n",
        "        std_devs_list.append(std_devs)\n",
        "        mean_distance_to_center_list.append(dist_to_center)\n",
        "        mean_pairwise_distance_list.append(pairwise_dist)\n",
        "\n",
        "        # Early stopping\n",
        "        if(fitness_value < fitness_for_last_iter_with_enhance):\n",
        "            last_iter_with_enhancement = iter\n",
        "            fitness_for_last_iter_with_enhance = fitness_value\n",
        "        elif(EARLY_STOPPING and iter - last_iter_with_enhancement >= EARLY_STOPPING_PATIENCE):\n",
        "            break\n",
        "\n",
        "        if(iter_print):\n",
        "            print(f\"Generation: {iter} | Best Fitness: {fitness_value:.6f} | Best Solution: {best_individual}\")\n",
        "\n",
        "    return bestValue, best_individual, std_devs_list, mean_distance_to_center_list, mean_pairwise_distance_list"
      ],
      "metadata": {
        "id": "Hz5mg6aVeBdm"
      },
      "execution_count": null,
      "outputs": []
    },
    {
      "cell_type": "markdown",
      "source": [
        "## 5 - Execução única - Testes"
      ],
      "metadata": {
        "id": "3xA9LWGzWhEh"
      }
    },
    {
      "cell_type": "code",
      "source": [
        "fitness_plot()"
      ],
      "metadata": {
        "id": "8OTf-5m2XL5D"
      },
      "execution_count": null,
      "outputs": []
    },
    {
      "cell_type": "code",
      "source": [
        "bestValue, best_individual, std_devs_list, mean_distance_to_center_list, mean_pairwise_distance_list = genetic_algorithm(iter_print=True)"
      ],
      "metadata": {
        "id": "i0zOqGcFUvgT"
      },
      "execution_count": null,
      "outputs": []
    },
    {
      "cell_type": "code",
      "source": [
        "plot_diversity_metrics(std_devs_list, mean_distance_to_center_list, mean_pairwise_distance_list)"
      ],
      "metadata": {
        "id": "6b1S-Hp9FQx0"
      },
      "execution_count": null,
      "outputs": []
    },
    {
      "cell_type": "code",
      "source": [
        "x = np.arange(0, len(bestValue))\n",
        "y = bestValue\n",
        "\n",
        "fig = plt.figure()\n",
        "ax = plt.gca()\n",
        "\n",
        "plt.plot(x, y, color='Plum', linestyle='--', linewidth=2,\n",
        "         marker='o', markeredgewidth=1, markerfacecolor='FireBrick',\n",
        "         markeredgecolor='black', markersize=2)\n",
        "\n",
        "plt.xlabel('Geração')\n",
        "plt.ylabel('Função objetivo')\n",
        "plt.xticks(np.linspace(0, len(bestValue), 8, dtype=int))\n",
        "\n",
        "# Mostra no título qual função está sendo usada\n",
        "plt.title(f'Curva de convergência - Função {FUNCTION_NAME.capitalize()}')\n",
        "\n",
        "if(FUNCTION_NAME == \"dropwave\"):\n",
        "    plt.axhline(y = -1, color =\"red\", linestyle =\"-\", zorder=1.5, linewidth=2)\n",
        "elif(FUNCTION_NAME == \"levi\"):\n",
        "    plt.axhline(y = 0, color =\"red\", linestyle =\"-\", zorder=1.5, linewidth=2)\n",
        "\n",
        "plt.grid(True)\n",
        "plt.show()\n",
        "plt.close(fig)\n",
        "\n",
        "# Identificar última mudança significativa (> 1e-4) em bestValue\n",
        "threshold = 1e-4\n",
        "last_significant_idx = 0\n",
        "\n",
        "for i in range(1, len(bestValue)):\n",
        "    if abs(bestValue[i] - bestValue[i - 1]) > threshold:\n",
        "        last_significant_idx = i\n",
        "\n",
        "print(f\"Última mudança significativa (>1e-4) ocorreu na Geração de Convergência: {last_significant_idx}\")\n",
        "print(f\"Best Fitness : {bestValue[-1]:.6f}\")\n",
        "print(f\"POPULATION_SIZE: {POPULATION_SIZE}\")\n",
        "print(f\"GENERATION_COUNT: {GENERATION_COUNT}\")\n",
        "print(f\"CROSSOVER_RATE: {CROSSOVER_RATE}\")\n",
        "print(f\"MUTATION_RATE: {MUTATION_RATE}\")\n",
        "print(f\"CHROMOSOME_LENGTH: {CHROMOSOME_LENGTH}\")\n",
        "print(f\"LOWER_BOUND: {LOWER_BOUND}\")\n",
        "print(f\"UPPER_BOUND: {UPPER_BOUND}\")"
      ],
      "metadata": {
        "id": "6hSIbIvQeEEQ"
      },
      "execution_count": null,
      "outputs": []
    }
  ]
}