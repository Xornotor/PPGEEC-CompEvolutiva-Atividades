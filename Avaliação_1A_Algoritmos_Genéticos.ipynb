{
  "nbformat": 4,
  "nbformat_minor": 0,
  "metadata": {
    "colab": {
      "provenance": [],
      "include_colab_link": true
    },
    "kernelspec": {
      "name": "python3",
      "display_name": "Python 3"
    },
    "language_info": {
      "name": "python"
    }
  },
  "cells": [
    {
      "cell_type": "markdown",
      "metadata": {
        "id": "view-in-github",
        "colab_type": "text"
      },
      "source": [
        "<a href=\"https://colab.research.google.com/github/Xornotor/PPGEEC-CompEvolutiva-Atividades/blob/main/Avalia%C3%A7%C3%A3o_1A_Algoritmos_Gen%C3%A9ticos.ipynb\" target=\"_parent\"><img src=\"https://colab.research.google.com/assets/colab-badge.svg\" alt=\"Open In Colab\"/></a>"
      ]
    },
    {
      "cell_type": "markdown",
      "source": [
        "\n",
        "\n",
        "\n",
        "# **Avaliação 1A - Computação Evolutiva e Meta-heurísticas**\n",
        "\n",
        "**Docente:** Prof. Dr. Edmar Egídio Purcino de Souza\n",
        "\n",
        "**Discentes:** André Paiva, Gabriel Lucas, Márcio Barros e Shaísta Câmara"
      ],
      "metadata": {
        "id": "P4dPKQL5LGgn"
      }
    },
    {
      "cell_type": "markdown",
      "source": [
        "## 1 - Importação de Dependências e Parametrização"
      ],
      "metadata": {
        "id": "tsw1q1PluEh-"
      }
    },
    {
      "cell_type": "code",
      "execution_count": null,
      "metadata": {
        "id": "9anhrKFWd0uX"
      },
      "outputs": [],
      "source": [
        "import random\n",
        "import numpy as np\n",
        "from matplotlib import pyplot as plt\n",
        "from plotly import graph_objects as go\n",
        "from itertools import combinations\n",
        "import matplotlib as mpl\n",
        "mpl.rcParams['figure.dpi'] = 150"
      ]
    },
    {
      "cell_type": "code",
      "source": [
        "# Parâmetros do algoritmo genético\n",
        "\n",
        "#----------------------------------------------------------------\n",
        "# Escolha a função de fitness a ser usada: \"dropwave\" ou \"levi\"\n",
        "FUNCTION_NAME = \"dropwave\"\n",
        "#FUNCTION_NAME = \"levi\"\n",
        "#----------------------------------------------------------------\n",
        "\n",
        "POPULATION_SIZE = 100\n",
        "GENERATION_COUNT = 100\n",
        "CROSSOVER_RATE = 0.8\n",
        "MUTATION_RATE = 0.5\n",
        "CHROMOSOME_LENGTH = 2\n",
        "LOWER_BOUND = -100\n",
        "UPPER_BOUND = 100"
      ],
      "metadata": {
        "id": "5mbrnUvVOUHH"
      },
      "execution_count": null,
      "outputs": []
    },
    {
      "cell_type": "markdown",
      "source": [
        "## 2 - Definição de função objetivo (*fitness*)\n"
      ],
      "metadata": {
        "id": "HTjKyNh1LQbX"
      }
    },
    {
      "cell_type": "code",
      "source": [
        "if FUNCTION_NAME == \"dropwave\":\n",
        "    def fitness(chromosome):\n",
        "        # Dropwave\n",
        "        x1 = chromosome[0]\n",
        "        x2 = chromosome[1]\n",
        "        r = np.sqrt(x1**2 + x2**2)\n",
        "        numerator = 1 + np.cos(12 * r)\n",
        "        denominator = 0.5 * (x1**2 + x2**2) + 2\n",
        "        return - numerator / denominator\n",
        "elif FUNCTION_NAME == \"levi\":\n",
        "    def fitness(chromosome):\n",
        "        # Levi n. 13\n",
        "        x1 = chromosome[0]\n",
        "        x2 = chromosome[1]\n",
        "        term1 = np.sin(3 * np.pi * x1)**2\n",
        "        term2 = (x1 - 1)**2 * (1 + np.sin(3 * np.pi * x2)**2)\n",
        "        term3 = (x2 - 1)**2 * (1 + np.sin(2 * np.pi * x2)**2)\n",
        "        return term1 + term2 + term3\n",
        "else:\n",
        "    raise ValueError(\"Função de fitness desconhecida.\")"
      ],
      "metadata": {
        "id": "2p0AqipTiE8F"
      },
      "execution_count": null,
      "outputs": []
    },
    {
      "cell_type": "markdown",
      "source": [
        "## 3 - Plot da função objetivo"
      ],
      "metadata": {
        "id": "W-D5ZWo13h9Y"
      }
    },
    {
      "cell_type": "code",
      "source": [
        "if FUNCTION_NAME == \"dropwave\":\n",
        "    x = y = np.linspace(-5, 5, 500)\n",
        "elif FUNCTION_NAME == \"levi\":\n",
        "    x = y = np.linspace(-10, 10, 500)\n",
        "\n",
        "chromosome = np.meshgrid(x, y)\n",
        "Z = fitness(chromosome)\n",
        "\n",
        "fig = go.Figure(data=[go.Surface(z=Z, x=x, y=y, colorscale='rainbow')])\n",
        "fig.update_layout(title=f\"Função {FUNCTION_NAME.capitalize()}\",\n",
        "                  autosize=False, width=800, height=600,\n",
        "                  margin=dict(l=65, r=50, b=65, t=90))\n",
        "fig.show()"
      ],
      "metadata": {
        "id": "D9DTB3hYuTHy"
      },
      "execution_count": null,
      "outputs": []
    },
    {
      "cell_type": "code",
      "source": [
        "# Generate a random chromosome\n",
        "# só a parte dos genes, entre os limites determinados\n",
        "def generate_chromosome():\n",
        "    return [random.uniform(LOWER_BOUND, UPPER_BOUND) for _ in range(CHROMOSOME_LENGTH)]\n",
        "\n",
        "# Perform selection using tournament selection\n",
        "#faz um sorteio do de melhor fitness (valor da função f(x1,x2)) entre 10 individuos aletorios\n",
        "#nesse caso como o for é igual a população, toda a população é \"substituida\" dessa forma\n",
        "#como é um problema de minimização o winner é o valor minimo (menor fitness)\n",
        "# salva tanto o melhor de toda a população, como o melhor e cada torneio, garantindo que o melhor nao vai ser perdido\n",
        "def selection(population):\n",
        "    tournament_size = 10\n",
        "    selected_parents = []\n",
        "    for _ in range(len(population)):\n",
        "        tournament = random.sample(population, tournament_size-1)\n",
        "        winner = min(tournament, key=lambda x: x[1]) # x[1] é o fitness na populatin/tourment\n",
        "        selected_parents.append(winner[0]) # winner[0] pega somente os valores dos genes (x1,x2)\n",
        "    best_individual = min(population, key=lambda x: x[1])[0]\n",
        "    selected_parents.append(best_individual)\n",
        "    return selected_parents\n",
        "\n",
        "# Perform crossover between two parents\n",
        "#define aletoriamente um ponto de corte no cromossomo e depoia, corta os dois pais nesse ponto e junta de foma cruzana nos filhos, ou seja, parte 1 do pai +pare 2 da mae e parte 2 do pais + parte 2 da mae\n",
        "\n",
        "def crossover(parent1, parent2):\n",
        "    if random.random() < CROSSOVER_RATE: #random.random() retorna entre 0 e 1\n",
        "        crossover_point = random.randint(1, CHROMOSOME_LENGTH - 1) # escolhe um ponto para corte do gene, porem como sao 2 genes sempre é o mesmo ponto para as nossas funções\n",
        "        child1 = parent1[:crossover_point] + parent2[crossover_point:]\n",
        "        child2 = parent2[:crossover_point] + parent1[crossover_point:]\n",
        "        return child1, child2\n",
        "    else:\n",
        "        return parent1, parent2\n",
        "\n",
        "# Perform mutation on an individual\n",
        "#adciona uma mutação (valor) a cada gene (x1 ou x2)entre -1 e 1, para ca individuo (entrada (x1,x2))\n",
        "def mutate(individual):\n",
        "    mutated_individual = individual.copy()\n",
        "    for i in range(CHROMOSOME_LENGTH):\n",
        "        if random.random() < MUTATION_RATE:\n",
        "            mutated_individual[i] += random.uniform(-1, 1)\n",
        "    return mutated_individual\n",
        "\n",
        "def calculate_diversity_metrics(population):\n",
        "    # Extrai os cromossomos\n",
        "    genes = np.array([chromosome for chromosome, _ in population])\n",
        "\n",
        "    # Desvio padrão\n",
        "    std_devs = np.std(genes, axis=0)\n",
        "\n",
        "    # Distância média ao centro\n",
        "    mean_distance_to_center = np.mean(np.linalg.norm(genes - np.mean(genes, axis=0), axis=1))\n",
        "\n",
        "    # medida espacial\n",
        "    distances = [np.linalg.norm(a - b) for a, b in combinations(genes, 2)]\n",
        "    mean_pairwise_distance = np.mean(distances)\n",
        "\n",
        "    return std_devs, mean_distance_to_center, mean_pairwise_distance\n",
        "\n",
        "# Generate an initial population and evaluate\n",
        "population = [(generate_chromosome(), 0) for _ in range(POPULATION_SIZE)]\n",
        "population = [(ind, fitness(ind)) for ind, _ in population]"
      ],
      "metadata": {
        "id": "qhKcRbHDd9pw"
      },
      "execution_count": null,
      "outputs": []
    },
    {
      "cell_type": "code",
      "source": [
        "# Genetic Algorithm main loop\n",
        "\n",
        "bestValue = []\n",
        "\n",
        "#Variaveis para calculo de diversidade\n",
        "std_devs_list = []\n",
        "mean_distance_to_center_list = []\n",
        "mean_pairwise_distance_list = []\n",
        "\n",
        "for idx in range(GENERATION_COUNT):\n",
        "    # Avalia a população com a função de fitness escolhida\n",
        "    #ele sempre corta os ultimos individuos nessa linha, pq no final da population size  +elite\n",
        "    population = [(chromosome, fitness(chromosome)) for chromosome, _ in population]\n",
        "\n",
        "    # Seleciona os pais\n",
        "    parents = selection(population) # retorna um vetor de size population+1, isso é importante pro loop seguinte funcionar, como foi feito\n",
        "\n",
        "    # Realiza o crossover e a mutação para gerar descendentes\n",
        "    offspring = []\n",
        "    #vai de 2 em 2 dentro da população\n",
        "    for i in range(0, POPULATION_SIZE, 2):\n",
        "        parent1 = parents[i]\n",
        "        parent2 = parents[i + 1]\n",
        "        child1, child2 = crossover(parent1, parent2)\n",
        "        child1 = mutate(child1)\n",
        "        child2 = mutate(child2)\n",
        "        offspring.extend([child1, child2])\n",
        "\n",
        "    # Recria a população a partir dos descendentes\n",
        "    # 0 é um valore temporario de fitness\n",
        "    population_x = [(chromosome, 0) for chromosome in offspring]\n",
        "\n",
        "    # Elitismo: mantém os melhores indivíduos da geração anterior\n",
        "    # a função sorted organiza por ordem de fitness por isso que elecionar o vetor até num_elites funciona\n",
        "    num_elites = 10\n",
        "    elites = sorted(population, key=lambda x: x[1])[:num_elites]\n",
        "\n",
        "    best_individual = min(population, key=lambda x: x[1])[0] # o [0] no final é para pegar apenas o cromossomo, depois de avaliar o menor fitness da população\n",
        "    population = elites + population_x\n",
        "\n",
        "    # Reavalia o melhor indivíduo para registrar\n",
        "    fitness_value = fitness(best_individual)\n",
        "    bestValue.append(fitness_value)\n",
        "\n",
        "    # Calcula diversidade da população atual\n",
        "    std_devs, dist_to_center, pairwise_dist = calculate_diversity_metrics(population)\n",
        "\n",
        "    # Armazena os valores\n",
        "    std_devs_list.append(std_devs)\n",
        "    mean_distance_to_center_list.append(dist_to_center)\n",
        "    mean_pairwise_distance_list.append(pairwise_dist)\n",
        "\n",
        "    print(\"Generation: \", idx,\n",
        "          \"| Best Fitness: {:.6f}\".format(fitness_value),\n",
        "          \"| Best Solution: \", best_individual)"
      ],
      "metadata": {
        "id": "Hz5mg6aVeBdm"
      },
      "execution_count": null,
      "outputs": []
    },
    {
      "cell_type": "code",
      "source": [
        "x = np.arange(0, len(bestValue))\n",
        "y = bestValue\n",
        "\n",
        "fig = plt.figure()\n",
        "ax = plt.gca()\n",
        "\n",
        "plt.plot(x, y, color='Plum', linestyle='--', linewidth=2,\n",
        "         marker='o', markeredgewidth=1, markerfacecolor='FireBrick',\n",
        "         markeredgecolor='black', markersize=2)\n",
        "\n",
        "plt.xlabel('Generations')\n",
        "plt.ylabel('Fitness Function')\n",
        "\n",
        "# Mostra no título qual função está sendo usada\n",
        "plt.title(f'Convergence Curve - {FUNCTION_NAME.capitalize()} Function')\n",
        "\n",
        "if(FUNCTION_NAME == \"dropwave\"):\n",
        "    plt.axhline(y = -1, color =\"red\", linestyle =\"-\", zorder=1.5, linewidth=2)\n",
        "elif(FUNCTION_NAME == \"levi\"):\n",
        "    plt.axhline(y = 0, color =\"red\", linestyle =\"-\", zorder=1.5, linewidth=2)\n",
        "\n",
        "plt.grid(True)\n",
        "plt.show()\n",
        "plt.close(fig)\n",
        "\n",
        "# Identificar última mudança significativa (> 1e-4) em bestValue\n",
        "threshold = 1e-4\n",
        "last_significant_idx = 0\n",
        "\n",
        "for i in range(1, len(bestValue)):\n",
        "    if abs(bestValue[i] - bestValue[i - 1]) > threshold:\n",
        "        last_significant_idx = i\n",
        "\n",
        "print(f\"Última mudança significativa (>1e-4) ocorreu na Geração de Convergência: {last_significant_idx}\")\n",
        "print(f\"Best Fitness : {bestValue[last_significant_idx]:.6f}\")\n",
        "print(f\"POPULATION_SIZE: {POPULATION_SIZE}\")\n",
        "print(f\"GENERATION_COUNT: {GENERATION_COUNT}\")\n",
        "print(f\"CROSSOVER_RATE: {CROSSOVER_RATE}\")\n",
        "print(f\"MUTATION_RATE: {MUTATION_RATE}\")\n",
        "print(f\"CHROMOSOME_LENGTH: {CHROMOSOME_LENGTH}\")\n",
        "print(f\"LOWER_BOUND: {LOWER_BOUND}\")\n",
        "print(f\"UPPER_BOUND: {UPPER_BOUND}\")"
      ],
      "metadata": {
        "id": "6hSIbIvQeEEQ"
      },
      "execution_count": null,
      "outputs": []
    },
    {
      "cell_type": "markdown",
      "source": [
        "## x - Plot das medidas de diversidade"
      ],
      "metadata": {
        "id": "lEWeUdYPFXjG"
      }
    },
    {
      "cell_type": "code",
      "source": [
        "def plot_diversity_metrics(std_devs_list, mean_distance_to_center_list, mean_pairwise_distance_list):\n",
        "    generations = range(len(std_devs_list))\n",
        "    std_x1 = [std[0] for std in std_devs_list]\n",
        "    std_x2 = [std[1] for std in std_devs_list]\n",
        "\n",
        "    plt.figure(figsize=(10, 3))\n",
        "\n",
        "    # Gráfico 1: Desvio padrão dos genes\n",
        "    plt.subplot(1, 3, 1)\n",
        "    plt.plot(generations, std_x1, label='Std x1')\n",
        "    plt.plot(generations, std_x2, label='Std x2')\n",
        "    plt.title('Desvio Padrão dos Genes')\n",
        "    plt.xlabel('Geração')\n",
        "    plt.ylabel('Desvio Padrão')\n",
        "    plt.legend()\n",
        "    plt.grid(True)\n",
        "\n",
        "    # Gráfico 2: Distância ao centro\n",
        "    plt.subplot(1, 3, 2)\n",
        "    plt.plot(generations, mean_distance_to_center_list, color='orange')\n",
        "    plt.title('Distância Média ao Centro')\n",
        "    plt.xlabel('Geração')\n",
        "    plt.ylabel('Distância')\n",
        "    plt.grid(True)\n",
        "\n",
        "    # Gráfico 3: Distância média entre pares\n",
        "    plt.subplot(1, 3, 3)\n",
        "    plt.plot(generations, mean_pairwise_distance_list, color='green')\n",
        "    plt.title('Distância Média entre Indivíduos')\n",
        "    plt.xlabel('Geração')\n",
        "    plt.ylabel('Distância')\n",
        "    plt.grid(True)\n",
        "\n",
        "    plt.tight_layout()\n",
        "    plt.show()\n",
        "\n",
        "plot_diversity_metrics(std_devs_list, mean_distance_to_center_list, mean_pairwise_distance_list)"
      ],
      "metadata": {
        "id": "6b1S-Hp9FQx0"
      },
      "execution_count": null,
      "outputs": []
    }
  ]
}