{
  "nbformat": 4,
  "nbformat_minor": 0,
  "metadata": {
    "colab": {
      "provenance": [],
      "authorship_tag": "ABX9TyOnuQOJo1hi7BOW4ESpGb0N",
      "include_colab_link": true
    },
    "kernelspec": {
      "name": "python3",
      "display_name": "Python 3"
    },
    "language_info": {
      "name": "python"
    }
  },
  "cells": [
    {
      "cell_type": "markdown",
      "metadata": {
        "id": "view-in-github",
        "colab_type": "text"
      },
      "source": [
        "<a href=\"https://colab.research.google.com/github/Xornotor/PPGEEC-CompEvolutiva-Atividades/blob/main/Avalia%C3%A7%C3%A3o_1B_Estrat%C3%A9gias_Evolutivas.ipynb\" target=\"_parent\"><img src=\"https://colab.research.google.com/assets/colab-badge.svg\" alt=\"Open In Colab\"/></a>"
      ]
    },
    {
      "cell_type": "markdown",
      "source": [
        "# **Avaliação 1B - Computação Evolutiva e Meta-heurísticas**\n",
        "\n",
        "**Docente:** Prof. Dr. Edmar Egídio Purcino de Souza\n",
        "\n",
        "**Discentes:** André Paiva, Gabriel Lucas, Márcio Barros e Shaísta Câmara"
      ],
      "metadata": {
        "id": "Bv-MV-A8gUu8"
      }
    },
    {
      "cell_type": "markdown",
      "source": [
        "## 1 - Inicialização e definição de funções das estratégias evolutivas"
      ],
      "metadata": {
        "id": "W0VQqsC7ghtI"
      }
    },
    {
      "cell_type": "markdown",
      "source": [
        "### 1.1 - Importação de dependências e parametrização"
      ],
      "metadata": {
        "id": "A66hl9OvgkN3"
      }
    },
    {
      "cell_type": "code",
      "source": [
        "import numpy as np\n",
        "import pandas as pd\n",
        "from matplotlib import pyplot as plt\n",
        "from plotly import graph_objects as go\n",
        "from plotly import express as px\n",
        "import matplotlib as mpl\n",
        "import seaborn as sns\n",
        "\n",
        "sns.set_style(\"darkgrid\")\n",
        "mpl.rcParams['figure.dpi'] = 150\n",
        "np.random.seed(5)"
      ],
      "metadata": {
        "id": "D0NP107Iw-Kx"
      },
      "execution_count": null,
      "outputs": []
    },
    {
      "cell_type": "code",
      "source": [
        "general_conditions = {\n",
        "    # Parâmetros para estratégias evolutivas\n",
        "\n",
        "    #------------------------------------------------------------------\n",
        "    # Escolha a função de fitness a ser usada: \"dropwave\" ou \"levi\"\n",
        "    \"functionName\": \"dropwave\",\n",
        "    #\"functionName\": \"levi\",\n",
        "    #------------------------------------------------------------------\n",
        "\n",
        "    # Estratégia (1 = (Mu,Lambda), 2 = (Mu+Lambda), 3 = CMA-ES)\n",
        "    \"strategy\": 2,\n",
        "\n",
        "    # Quantidade de pais\n",
        "    \"muSize\": 25,\n",
        "\n",
        "    # Quantidade de filhos\n",
        "    \"lambdaSize\": 100,\n",
        "\n",
        "    # Quantidade máxima de gerações\n",
        "    \"generationCount\": 100,\n",
        "\n",
        "    # Tamanho inicial do passo\n",
        "    \"initialSigma\": 2,\n",
        "\n",
        "    # Variação geracional do passo\n",
        "    \"deltaSigma\": 1/np.sqrt(120),\n",
        "\n",
        "    # Progenitores a serem recombinados\n",
        "    \"recombParents\": 10,\n",
        "\n",
        "    # Estratégia de recombinação (0 = Desativado, 1 = Intermédia, 2 = Discreta)\n",
        "    \"recombType\": 1,\n",
        "\n",
        "    # Limites de valores para os genes\n",
        "    \"bounds\": np.array([[-100, 100], [-100, 100]])\n",
        "}"
      ],
      "metadata": {
        "id": "ybRITIt1w-UQ"
      },
      "execution_count": null,
      "outputs": []
    },
    {
      "cell_type": "markdown",
      "source": [
        "## 1.2 - Definição de função objetivo (fitness)"
      ],
      "metadata": {
        "id": "pUnuOUXJzQtI"
      }
    },
    {
      "cell_type": "code",
      "source": [
        "def fitness(chromosome, conditions):\n",
        "    x1 = chromosome[0]\n",
        "    x2 = chromosome[1]\n",
        "    if conditions[\"functionName\"] == \"dropwave\":\n",
        "        r = np.sqrt(x1**2 + x2**2)\n",
        "        numerator = -(1 + np.cos(12 * r))\n",
        "        denominator = 0.5 * (x1**2 + x2**2) + 2\n",
        "        return numerator / denominator\n",
        "    elif conditions[\"functionName\"] == \"levi\":\n",
        "        term1 = np.sin(3 * np.pi * x1)**2\n",
        "        term2 = (x1 - 1)**2 * (1 + np.sin(3 * np.pi * x2)**2)\n",
        "        term3 = (x2 - 1)**2 * (1 + np.sin(2 * np.pi * x2)**2)\n",
        "        return term1 + term2 + term3\n",
        "    else:\n",
        "        raise ValueError(\"Função de fitness desconhecida.\")"
      ],
      "metadata": {
        "id": "iOjr4HvlzSAD"
      },
      "execution_count": null,
      "outputs": []
    },
    {
      "cell_type": "code",
      "source": [
        "# Plot interativo da função objetivo\n",
        "def fitness_plot(conditions):\n",
        "    if conditions[\"functionName\"] == \"dropwave\":\n",
        "        x = y = np.linspace(-5, 5, 500)\n",
        "    if conditions[\"functionName\"] == \"levi\":\n",
        "        x = y = np.linspace(-10, 10, 500)\n",
        "\n",
        "    chromosome = np.meshgrid(x, y)\n",
        "    Z = fitness(chromosome, conditions)\n",
        "\n",
        "    fig = go.Figure(data=[go.Surface(z=Z, x=x, y=y, colorscale='rainbow')])\n",
        "    fig.update_layout(title=f\"Função {conditions['functionName'].capitalize()}\",\n",
        "                    autosize=False, width=800, height=600,\n",
        "                    margin=dict(l=65, r=50, b=65, t=90))\n",
        "    fig.show()"
      ],
      "metadata": {
        "id": "E7_0lX7J0Sby"
      },
      "execution_count": null,
      "outputs": []
    },
    {
      "cell_type": "markdown",
      "source": [
        "### 1.3 - Funções auxiliares para as estratégias evolutivas"
      ],
      "metadata": {
        "id": "LQXwVt0o44Z5"
      }
    },
    {
      "cell_type": "code",
      "source": [
        "# check if a point is within the bounds of the search\n",
        "def in_bounds(point, bounds):\n",
        "\t# enumerate all dimensions of the point\n",
        "\tfor d in range(len(bounds)):\n",
        "\t\t# check if out of bounds for this dimension\n",
        "\t\tif point[d] < bounds[d, 0] or point[d] > bounds[d, 1]:\n",
        "\t\t\treturn False\n",
        "\treturn True"
      ],
      "metadata": {
        "id": "lFDPubLT4-bS"
      },
      "execution_count": null,
      "outputs": []
    },
    {
      "cell_type": "code",
      "source": [
        "# FUNÇÕES DE PLOT\n",
        "\n",
        "# Plot das curvas de convergência\n",
        "def convergence_curve_individual(population_df, conditions):\n",
        "    x = np.arange(0, len(population_df))\n",
        "    y = population_df[\"Fitness\"].to_numpy()\n",
        "\n",
        "    fig = plt.figure()\n",
        "    ax = plt.gca()\n",
        "\n",
        "    plt.plot(x, y, color='Plum', linestyle='--', linewidth=2,\n",
        "            marker='o', markeredgewidth=1, markerfacecolor='FireBrick',\n",
        "            markeredgecolor='black', markersize=2)\n",
        "\n",
        "    plt.xlabel('Geração')\n",
        "    plt.ylabel('Função objetivo')\n",
        "    plt.xticks(np.linspace(0, len(population_df), 8, dtype=int))\n",
        "\n",
        "    # Mostra no título qual função está sendo usada\n",
        "    plt.title(f'Curva de convergência - Função {conditions[\"functionName\"].capitalize()}')\n",
        "\n",
        "    if(conditions[\"functionName\"] == \"dropwave\"):\n",
        "        plt.axhline(y = -1, color =\"red\", linestyle =\"-\", zorder=1.5, linewidth=2)\n",
        "    elif(conditions[\"functionName\"] == \"levi\"):\n",
        "        plt.axhline(y = 0, color =\"red\", linestyle =\"-\", zorder=1.5, linewidth=2)\n",
        "\n",
        "    plt.grid(True)\n",
        "    plt.show()\n",
        "    plt.close(fig)\n",
        "\n",
        "    # Identificar última mudança significativa (> 1e-4) no fitness\n",
        "    threshold = 1e-4\n",
        "    last_significant_idx = 0\n",
        "\n",
        "    for i in range(1, len(y)):\n",
        "        if abs(y[i] - y[i - 1]) > threshold:\n",
        "            last_significant_idx = i"
      ],
      "metadata": {
        "id": "O2XcqQMuKz6V"
      },
      "execution_count": null,
      "outputs": []
    },
    {
      "cell_type": "markdown",
      "source": [
        "### 1.4 - Estratégias evolutivas"
      ],
      "metadata": {
        "id": "Ro-_xzIX5FSJ"
      }
    },
    {
      "cell_type": "code",
      "source": [
        "def mu_lambda_es(conditions):\n",
        "\n",
        "    mu = conditions[\"muSize\"]\n",
        "    lam = conditions[\"lambdaSize\"]\n",
        "    bounds = conditions[\"bounds\"]\n",
        "\n",
        "    sigma = conditions[\"initialSigma\"]\n",
        "\n",
        "    best, best_eval = None, np.inf\n",
        "\n",
        "    # Acúmulo de dados ao longo das gerações\n",
        "    best_dicts = []\n",
        "    population_df = pd.DataFrame()\n",
        "\n",
        "\t# calculate the number of children per parent\n",
        "    n_children = int(lam / mu)\n",
        "\t# initial population\n",
        "    population = list()\n",
        "\n",
        "    for _ in range(lam):\n",
        "        candidate = None\n",
        "        while candidate is None or not in_bounds(candidate, bounds):\n",
        "            candidate = bounds[:, 0] + np.random.rand(len(bounds)) * (bounds[:, 1] - bounds[:, 0])\n",
        "        population.append(candidate)\n",
        "\t# perform the search\n",
        "    for epoch in range(conditions[\"generationCount\"]):\n",
        "        if(conditions[\"recombParents\"] > 0 and conditions[\"recombType\"] != 0):\n",
        "            for i in range(conditions[\"recombParents\"]):\n",
        "                if(conditions[\"recombType\"] == 1):\n",
        "                    # Intermédia\n",
        "                    random_pick = np.random.choice(len(population), conditions[\"recombParents\"], replace=False)\n",
        "                    recomb_individual = np.sum(np.array(population)[random_pick], axis=0)/conditions[\"recombParents\"]\n",
        "                elif(conditions[\"recombType\"] == 2):\n",
        "                    # Discreta\n",
        "                    random_pick = np.random.choice(len(population), 2, replace=False)\n",
        "                    random_gene_sel = np.random.rand()\n",
        "                    if(random_gene_sel < 0.5):\n",
        "                        recomb_individual = np.array([population[random_pick[0]][0],\n",
        "                                                      population[random_pick[1]][1]])\n",
        "                    else:\n",
        "                        recomb_individual = np.array([population[random_pick[1]][0],\n",
        "                                                      population[random_pick[0]][1]])\n",
        "                else:\n",
        "                    raise ValueError(\"Estratégia de recombinação desconhecida.\")\n",
        "                population.append(recomb_individual.tolist())\n",
        "\t\t# evaluate fitness for the population\n",
        "        scores = [fitness(c, conditions) for c in population]\n",
        "\t\t# rank scores in ascending order\n",
        "        ranks = np.argsort(np.argsort(scores))\n",
        "\t\t# select the indexes for the top mu ranked solutions\n",
        "        selected = [i for i,_ in enumerate(ranks) if ranks[i] < mu]\n",
        "\n",
        "        parents_dicts = []\n",
        "        for i in selected:\n",
        "            parent_dict = {\"Generation\": epoch, \"x1\": population[i][0], \"x2\": population[i][1], \"Fitness\": scores[i]}\n",
        "            parents_dicts.append(parent_dict)\n",
        "\n",
        "        population_df = pd.concat([population_df, pd.DataFrame(parents_dicts)])\n",
        "\n",
        "\t\t# create children from parents\n",
        "        children = list()\n",
        "\n",
        "        for i in selected:\n",
        "            # check if this parent is the best solution ever seen\n",
        "            if scores[i] < best_eval:\n",
        "                best, best_eval = population[i], scores[i]\n",
        "                print('%d, Best: f(%s) = %.5f' % (epoch, best, best_eval))\n",
        "\n",
        "\t\t\t# create children for parent\n",
        "            for _ in range(n_children):\n",
        "                child = None\n",
        "                while child is None or not in_bounds(child, bounds):\n",
        "                    child = population[i] + np.random.randn(len(bounds)) * sigma\n",
        "                children.append(child)\n",
        "\n",
        "            # keep the parent if (Mu+Lambda)\n",
        "            if(conditions[\"strategy\"]) == 2:\n",
        "                children.append(population[i])\n",
        "\n",
        "        # Save best candidate of the generation\n",
        "        best_dicts.append({\"Generation\": epoch, \"x1\": best[0], \"x2\": best[1], \"Fitness\": best_eval})\n",
        "\n",
        "\t\t# replace population with children\n",
        "        population = children\n",
        "\n",
        "        # Variação de sigma\n",
        "        sigma *= np.exp((np.random.normal(0, 1) * (conditions[\"deltaSigma\"]**2)))\n",
        "\n",
        "    best_df = pd.DataFrame(best_dicts)\n",
        "\n",
        "    return best, best_eval, best_df, population_df"
      ],
      "metadata": {
        "id": "YATmFOOv5IOB"
      },
      "execution_count": null,
      "outputs": []
    },
    {
      "cell_type": "markdown",
      "source": [
        "## 2 - Testes de Estratégias Evolutivas: Execução Única"
      ],
      "metadata": {
        "id": "gkQfMJxNJQFO"
      }
    },
    {
      "cell_type": "code",
      "source": [
        "fitness_plot(general_conditions)"
      ],
      "metadata": {
        "id": "P0p_rtbOJV_M"
      },
      "execution_count": null,
      "outputs": []
    },
    {
      "cell_type": "code",
      "source": [
        "best, best_eval, best_df, population_df = mu_lambda_es(general_conditions)"
      ],
      "metadata": {
        "id": "_8HiIJ1SJXtJ"
      },
      "execution_count": null,
      "outputs": []
    },
    {
      "cell_type": "code",
      "source": [
        "px.scatter(population_df, \"x1\", \"x2\", \"Fitness\", animation_frame=\"Generation\",\n",
        "           width=800, height=600, color_continuous_scale='bluered',\n",
        "           title=f\"Função {general_conditions['functionName'].capitalize()} - Evolução das Gerações\")"
      ],
      "metadata": {
        "id": "QtmOCwUHJcdG"
      },
      "execution_count": null,
      "outputs": []
    },
    {
      "cell_type": "code",
      "source": [
        "convergence_curve_individual(best_df, general_conditions)"
      ],
      "metadata": {
        "id": "b7gVXHJmKu-0"
      },
      "execution_count": null,
      "outputs": []
    }
  ]
}